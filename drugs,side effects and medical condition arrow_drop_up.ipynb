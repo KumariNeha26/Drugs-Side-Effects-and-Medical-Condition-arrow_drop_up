{
 "cells": [
  {
   "cell_type": "code",
   "execution_count": 1,
   "id": "4514579d-62e6-473e-b711-e79d2b19349f",
   "metadata": {},
   "outputs": [],
   "source": [
    "import pandas as pd\n",
    "import numpy as np\n",
    "import matplotlib.pyplot as plt\n",
    "import seaborn as sns"
   ]
  },
  {
   "cell_type": "code",
   "execution_count": 2,
   "id": "cdd61f83-af4d-4666-bf46-4256ce0f99b8",
   "metadata": {},
   "outputs": [],
   "source": [
    "# Load your dataset\n",
    "df = pd.read_csv(r\"C:\\Users\\kushn\\Downloads\\drugs_side_effects_drugs_com.csv\")"
   ]
  },
  {
   "cell_type": "code",
   "execution_count": 3,
   "id": "722ebaa9-89d0-4437-8880-f9f5e87da9e0",
   "metadata": {},
   "outputs": [
    {
     "name": "stdout",
     "output_type": "stream",
     "text": [
      "The dataset has 2931 rows and 17 columns\n",
      "Columns:\n",
      "Index(['drug_name', 'medical_condition', 'side_effects', 'generic_name',\n",
      "       'drug_classes', 'brand_names', 'activity', 'rx_otc',\n",
      "       'pregnancy_category', 'csa', 'alcohol', 'related_drugs',\n",
      "       'medical_condition_description', 'rating', 'no_of_reviews', 'drug_link',\n",
      "       'medical_condition_url'],\n",
      "      dtype='object')\n"
     ]
    }
   ],
   "source": [
    "file_path = r\"C:\\Users\\kushn\\Downloads\\drugs_side_effects_drugs_com.csv\"\n",
    "\n",
    "# Load the dataset\n",
    "data = pd.read_csv(file_path)\n",
    "\n",
    "# Display the quantity of rows and columns\n",
    "print('The dataset has {} rows and {} columns'.format(data.shape[0], data.shape[1]))\n",
    "print(\"Columns:\")\n",
    "print(data.columns)"
   ]
  },
  {
   "cell_type": "code",
   "execution_count": 4,
   "id": "741c1cd5-6349-49a1-8466-e77360bbae9f",
   "metadata": {},
   "outputs": [
    {
     "name": "stdout",
     "output_type": "stream",
     "text": [
      "<class 'pandas.core.frame.DataFrame'>\n",
      "RangeIndex: 2931 entries, 0 to 2930\n",
      "Data columns (total 17 columns):\n",
      " #   Column                         Non-Null Count  Dtype  \n",
      "---  ------                         --------------  -----  \n",
      " 0   drug_name                      2931 non-null   object \n",
      " 1   medical_condition              2931 non-null   object \n",
      " 2   side_effects                   2807 non-null   object \n",
      " 3   generic_name                   2888 non-null   object \n",
      " 4   drug_classes                   2849 non-null   object \n",
      " 5   brand_names                    1718 non-null   object \n",
      " 6   activity                       2931 non-null   object \n",
      " 7   rx_otc                         2930 non-null   object \n",
      " 8   pregnancy_category             2702 non-null   object \n",
      " 9   csa                            2931 non-null   object \n",
      " 10  alcohol                        1377 non-null   object \n",
      " 11  related_drugs                  1462 non-null   object \n",
      " 12  medical_condition_description  2931 non-null   object \n",
      " 13  rating                         1586 non-null   float64\n",
      " 14  no_of_reviews                  1586 non-null   float64\n",
      " 15  drug_link                      2931 non-null   object \n",
      " 16  medical_condition_url          2931 non-null   object \n",
      "dtypes: float64(2), object(15)\n",
      "memory usage: 389.4+ KB\n"
     ]
    }
   ],
   "source": [
    "# Show the main information about dataset\n",
    "data.info()"
   ]
  },
  {
   "cell_type": "code",
   "execution_count": 5,
   "id": "9c50fb6b-8d2d-4906-a116-d92064885ed2",
   "metadata": {},
   "outputs": [
    {
     "data": {
      "text/html": [
       "<div>\n",
       "<style scoped>\n",
       "    .dataframe tbody tr th:only-of-type {\n",
       "        vertical-align: middle;\n",
       "    }\n",
       "\n",
       "    .dataframe tbody tr th {\n",
       "        vertical-align: top;\n",
       "    }\n",
       "\n",
       "    .dataframe thead th {\n",
       "        text-align: right;\n",
       "    }\n",
       "</style>\n",
       "<table border=\"1\" class=\"dataframe\">\n",
       "  <thead>\n",
       "    <tr style=\"text-align: right;\">\n",
       "      <th></th>\n",
       "      <th>drug_name</th>\n",
       "      <th>medical_condition</th>\n",
       "      <th>side_effects</th>\n",
       "      <th>generic_name</th>\n",
       "      <th>drug_classes</th>\n",
       "      <th>brand_names</th>\n",
       "      <th>activity</th>\n",
       "      <th>rx_otc</th>\n",
       "      <th>pregnancy_category</th>\n",
       "      <th>csa</th>\n",
       "      <th>alcohol</th>\n",
       "      <th>related_drugs</th>\n",
       "      <th>medical_condition_description</th>\n",
       "      <th>rating</th>\n",
       "      <th>no_of_reviews</th>\n",
       "      <th>drug_link</th>\n",
       "      <th>medical_condition_url</th>\n",
       "    </tr>\n",
       "  </thead>\n",
       "  <tbody>\n",
       "    <tr>\n",
       "      <th>0</th>\n",
       "      <td>doxycycline</td>\n",
       "      <td>Acne</td>\n",
       "      <td>(hives, difficult breathing, swelling in your ...</td>\n",
       "      <td>doxycycline</td>\n",
       "      <td>Miscellaneous antimalarials, Tetracyclines</td>\n",
       "      <td>Acticlate, Adoxa CK, Adoxa Pak, Adoxa TT, Alod...</td>\n",
       "      <td>87%</td>\n",
       "      <td>Rx</td>\n",
       "      <td>D</td>\n",
       "      <td>N</td>\n",
       "      <td>X</td>\n",
       "      <td>amoxicillin: https://www.drugs.com/amoxicillin...</td>\n",
       "      <td>Acne Other names: Acne Vulgaris; Blackheads; B...</td>\n",
       "      <td>6.8</td>\n",
       "      <td>760.0</td>\n",
       "      <td>https://www.drugs.com/doxycycline.html</td>\n",
       "      <td>https://www.drugs.com/condition/acne.html</td>\n",
       "    </tr>\n",
       "    <tr>\n",
       "      <th>1</th>\n",
       "      <td>spironolactone</td>\n",
       "      <td>Acne</td>\n",
       "      <td>hives ; difficulty breathing; swelling of your...</td>\n",
       "      <td>spironolactone</td>\n",
       "      <td>Aldosterone receptor antagonists, Potassium-sp...</td>\n",
       "      <td>Aldactone, CaroSpir</td>\n",
       "      <td>82%</td>\n",
       "      <td>Rx</td>\n",
       "      <td>C</td>\n",
       "      <td>N</td>\n",
       "      <td>X</td>\n",
       "      <td>amlodipine: https://www.drugs.com/amlodipine.h...</td>\n",
       "      <td>Acne Other names: Acne Vulgaris; Blackheads; B...</td>\n",
       "      <td>7.2</td>\n",
       "      <td>449.0</td>\n",
       "      <td>https://www.drugs.com/spironolactone.html</td>\n",
       "      <td>https://www.drugs.com/condition/acne.html</td>\n",
       "    </tr>\n",
       "    <tr>\n",
       "      <th>2</th>\n",
       "      <td>minocycline</td>\n",
       "      <td>Acne</td>\n",
       "      <td>skin rash, fever, swollen glands, flu-like sym...</td>\n",
       "      <td>minocycline</td>\n",
       "      <td>Tetracyclines</td>\n",
       "      <td>Dynacin, Minocin, Minolira, Solodyn, Ximino, V...</td>\n",
       "      <td>48%</td>\n",
       "      <td>Rx</td>\n",
       "      <td>D</td>\n",
       "      <td>N</td>\n",
       "      <td>NaN</td>\n",
       "      <td>amoxicillin: https://www.drugs.com/amoxicillin...</td>\n",
       "      <td>Acne Other names: Acne Vulgaris; Blackheads; B...</td>\n",
       "      <td>5.7</td>\n",
       "      <td>482.0</td>\n",
       "      <td>https://www.drugs.com/minocycline.html</td>\n",
       "      <td>https://www.drugs.com/condition/acne.html</td>\n",
       "    </tr>\n",
       "    <tr>\n",
       "      <th>3</th>\n",
       "      <td>Accutane</td>\n",
       "      <td>Acne</td>\n",
       "      <td>problems with your vision or hearing; muscle o...</td>\n",
       "      <td>isotretinoin (oral)</td>\n",
       "      <td>Miscellaneous antineoplastics, Miscellaneous u...</td>\n",
       "      <td>NaN</td>\n",
       "      <td>41%</td>\n",
       "      <td>Rx</td>\n",
       "      <td>X</td>\n",
       "      <td>N</td>\n",
       "      <td>X</td>\n",
       "      <td>doxycycline: https://www.drugs.com/doxycycline...</td>\n",
       "      <td>Acne Other names: Acne Vulgaris; Blackheads; B...</td>\n",
       "      <td>7.9</td>\n",
       "      <td>623.0</td>\n",
       "      <td>https://www.drugs.com/accutane.html</td>\n",
       "      <td>https://www.drugs.com/condition/acne.html</td>\n",
       "    </tr>\n",
       "    <tr>\n",
       "      <th>4</th>\n",
       "      <td>clindamycin</td>\n",
       "      <td>Acne</td>\n",
       "      <td>hives ; difficult breathing; swelling of your ...</td>\n",
       "      <td>clindamycin topical</td>\n",
       "      <td>Topical acne agents, Vaginal anti-infectives</td>\n",
       "      <td>Cleocin T, Clindacin ETZ, Clindacin P, Clindag...</td>\n",
       "      <td>39%</td>\n",
       "      <td>Rx</td>\n",
       "      <td>B</td>\n",
       "      <td>N</td>\n",
       "      <td>NaN</td>\n",
       "      <td>doxycycline: https://www.drugs.com/doxycycline...</td>\n",
       "      <td>Acne Other names: Acne Vulgaris; Blackheads; B...</td>\n",
       "      <td>7.4</td>\n",
       "      <td>146.0</td>\n",
       "      <td>https://www.drugs.com/mtm/clindamycin-topical....</td>\n",
       "      <td>https://www.drugs.com/condition/acne.html</td>\n",
       "    </tr>\n",
       "  </tbody>\n",
       "</table>\n",
       "</div>"
      ],
      "text/plain": [
       "        drug_name medical_condition  \\\n",
       "0     doxycycline              Acne   \n",
       "1  spironolactone              Acne   \n",
       "2     minocycline              Acne   \n",
       "3        Accutane              Acne   \n",
       "4     clindamycin              Acne   \n",
       "\n",
       "                                        side_effects         generic_name  \\\n",
       "0  (hives, difficult breathing, swelling in your ...          doxycycline   \n",
       "1  hives ; difficulty breathing; swelling of your...       spironolactone   \n",
       "2  skin rash, fever, swollen glands, flu-like sym...          minocycline   \n",
       "3  problems with your vision or hearing; muscle o...  isotretinoin (oral)   \n",
       "4  hives ; difficult breathing; swelling of your ...  clindamycin topical   \n",
       "\n",
       "                                        drug_classes  \\\n",
       "0         Miscellaneous antimalarials, Tetracyclines   \n",
       "1  Aldosterone receptor antagonists, Potassium-sp...   \n",
       "2                                      Tetracyclines   \n",
       "3  Miscellaneous antineoplastics, Miscellaneous u...   \n",
       "4       Topical acne agents, Vaginal anti-infectives   \n",
       "\n",
       "                                         brand_names activity rx_otc  \\\n",
       "0  Acticlate, Adoxa CK, Adoxa Pak, Adoxa TT, Alod...      87%     Rx   \n",
       "1                                Aldactone, CaroSpir      82%     Rx   \n",
       "2  Dynacin, Minocin, Minolira, Solodyn, Ximino, V...      48%     Rx   \n",
       "3                                                NaN      41%     Rx   \n",
       "4  Cleocin T, Clindacin ETZ, Clindacin P, Clindag...      39%     Rx   \n",
       "\n",
       "  pregnancy_category csa alcohol  \\\n",
       "0                  D   N       X   \n",
       "1                  C   N       X   \n",
       "2                  D   N     NaN   \n",
       "3                  X   N       X   \n",
       "4                  B   N     NaN   \n",
       "\n",
       "                                       related_drugs  \\\n",
       "0  amoxicillin: https://www.drugs.com/amoxicillin...   \n",
       "1  amlodipine: https://www.drugs.com/amlodipine.h...   \n",
       "2  amoxicillin: https://www.drugs.com/amoxicillin...   \n",
       "3  doxycycline: https://www.drugs.com/doxycycline...   \n",
       "4  doxycycline: https://www.drugs.com/doxycycline...   \n",
       "\n",
       "                       medical_condition_description  rating  no_of_reviews  \\\n",
       "0  Acne Other names: Acne Vulgaris; Blackheads; B...     6.8          760.0   \n",
       "1  Acne Other names: Acne Vulgaris; Blackheads; B...     7.2          449.0   \n",
       "2  Acne Other names: Acne Vulgaris; Blackheads; B...     5.7          482.0   \n",
       "3  Acne Other names: Acne Vulgaris; Blackheads; B...     7.9          623.0   \n",
       "4  Acne Other names: Acne Vulgaris; Blackheads; B...     7.4          146.0   \n",
       "\n",
       "                                           drug_link  \\\n",
       "0             https://www.drugs.com/doxycycline.html   \n",
       "1          https://www.drugs.com/spironolactone.html   \n",
       "2             https://www.drugs.com/minocycline.html   \n",
       "3                https://www.drugs.com/accutane.html   \n",
       "4  https://www.drugs.com/mtm/clindamycin-topical....   \n",
       "\n",
       "                       medical_condition_url  \n",
       "0  https://www.drugs.com/condition/acne.html  \n",
       "1  https://www.drugs.com/condition/acne.html  \n",
       "2  https://www.drugs.com/condition/acne.html  \n",
       "3  https://www.drugs.com/condition/acne.html  \n",
       "4  https://www.drugs.com/condition/acne.html  "
      ]
     },
     "execution_count": 5,
     "metadata": {},
     "output_type": "execute_result"
    }
   ],
   "source": [
    "data.head()"
   ]
  },
  {
   "cell_type": "code",
   "execution_count": 6,
   "id": "65080e2f-f966-4a34-b0a7-2cbe46d41378",
   "metadata": {},
   "outputs": [],
   "source": [
    "# Dropping the 'brand_names' column and delete from dataset\n",
    "data.drop(columns=['brand_names'], inplace=True)"
   ]
  },
  {
   "cell_type": "code",
   "execution_count": 7,
   "id": "9ca4c28e-28aa-4ce3-a1bb-1e676fac4303",
   "metadata": {},
   "outputs": [
    {
     "name": "stdout",
     "output_type": "stream",
     "text": [
      "Count of Duplicate Rows: 0\n",
      "Empty DataFrame\n",
      "Columns: [drug_name, medical_condition, side_effects, generic_name, drug_classes, activity, rx_otc, pregnancy_category, csa, alcohol, related_drugs, medical_condition_description, rating, no_of_reviews, drug_link, medical_condition_url]\n",
      "Index: []\n"
     ]
    }
   ],
   "source": [
    "# Find duplicate rows based on all columns\n",
    "duplicate_rows= data[data.duplicated()]\n",
    "#Count the duplicated rows\n",
    "duplicate_count = duplicate_rows.shape[0]\n",
    "# Print the count of duplicate rows\n",
    "print(\"Count of Duplicate Rows:\", duplicate_count)\n",
    "print(duplicate_rows) # Print the duplicate rows"
   ]
  },
  {
   "cell_type": "code",
   "execution_count": 8,
   "id": "5d108cdb-886f-453a-9581-f54825261dc1",
   "metadata": {},
   "outputs": [
    {
     "name": "stdout",
     "output_type": "stream",
     "text": [
      "object     14\n",
      "float64     2\n",
      "Name: count, dtype: int64\n"
     ]
    }
   ],
   "source": [
    "# Convert 'rating' and 'no_of_reviews' attributes to numeric\n",
    "data['rating'] = pd.to_numeric(data['rating'], errors='coerce')\n",
    "# data['no_of_reviews'] = pd.to_numeric(data['no_of_reviews'], errors='coerce')\n",
    "print(data.dtypes.value_counts())"
   ]
  },
  {
   "cell_type": "code",
   "execution_count": 9,
   "id": "1f9a1cee-60dd-4255-aeb5-6f0454f33392",
   "metadata": {},
   "outputs": [
    {
     "name": "stdout",
     "output_type": "stream",
     "text": [
      "0    0.87\n",
      "1    0.82\n",
      "2    0.48\n",
      "3    0.41\n",
      "4    0.39\n",
      "Name: activity, dtype: float64\n"
     ]
    }
   ],
   "source": [
    "# Convert 'activity' to string, remove whitespace and '%' character, then convert to float and divide by 100 \n",
    "data['activity'] = data['activity'].astype(str).str.replace(r'\\s+', '',regex=True).str.rstrip('%').astype('float')/100\n",
    "# Display the updated 'activity' column\n",
    "print(data['activity'].head())"
   ]
  },
  {
   "cell_type": "code",
   "execution_count": 10,
   "id": "b7a9dfd6-350a-4d13-a52a-73e6c4b6720e",
   "metadata": {},
   "outputs": [
    {
     "name": "stdout",
     "output_type": "stream",
     "text": [
      "There are 6192 missing values in this dataset\n",
      "Number of instances = 2931\n",
      "Number of attributes = 16\n",
      "Number of missing values:\n",
      "\tdrug_name: 0\n",
      "\tmedical_condition: 0\n",
      "\tside_effects: 124\n",
      "\tgeneric_name: 43\n",
      "\tdrug_classes: 82\n",
      "\tactivity: 0\n",
      "\trx_otc: 1\n",
      "\tpregnancy_category: 229\n",
      "\tcsa: 0\n",
      "\talcohol: 1554\n",
      "\trelated_drugs: 1469\n",
      "\tmedical_condition_description: 0\n",
      "\trating: 1345\n",
      "\tno_of_reviews: 1345\n",
      "\tdrug_link: 0\n",
      "\tmedical_condition_url: 0\n"
     ]
    }
   ],
   "source": [
    "# Print the total number of missing values\n",
    "print(\"There are {} missing values in this dataset\".format(data.isnull().sum().sum()))\n",
    "print('Number of instances = %d' % (data.shape[0]))\n",
    "print('Number of attributes = %d' % (data.shape[1]))\n",
    "print('Number of missing values:')\n",
    "for col in data.columns: print('\\t%s: %d' % (col,data[col].isna().sum()))"
   ]
  },
  {
   "cell_type": "code",
   "execution_count": 11,
   "id": "378a644f-6f9a-4e16-8f40-521b9ab0eac3",
   "metadata": {},
   "outputs": [],
   "source": [
    "# In the alcohol column we have X and null(NaN) values, because the drug can interact with alcohol or not.\n",
    "# Therefore, let's replace the values of ak=lcohol column with boolean values.\n",
    "# Let X will be 1 of interaction, NaN will be 0.\n",
    "data['alcohol']=data['alcohol'].replace(np.nan,'0')\n",
    "data['alcohol']=data['alcohol'].replace({'X': 1})"
   ]
  },
  {
   "cell_type": "code",
   "execution_count": 12,
   "id": "fd1278db-a314-437d-bde6-e1fd6a153f9c",
   "metadata": {},
   "outputs": [],
   "source": [
    "# To avoid missing values let's fill them with some information\n",
    "# In our case we will replace all them\n",
    "# Fill the null values in 'side_effects' and 'related_drugs' with no\n",
    "data[\"side_effects\"] = data['side_effects'].fillna('Unknown')\n",
    "data[\"related_drugs\"] = data['related_drugs'].fillna('Unknown')"
   ]
  },
  {
   "cell_type": "code",
   "execution_count": 13,
   "id": "d542b53d-deb8-44f1-9f54-0227d7d3bd58",
   "metadata": {},
   "outputs": [],
   "source": [
    "# Fill the null values with 0 as a base for 'rating' and 'no_of_reviews' columns\n",
    "# It will show that there are no information about it\n",
    "data[\"rating\"] = data['rating'].fillna('0')\n",
    "data[\"no_of_reviews\"] = data['no_of_reviews'].fillna('0')"
   ]
  },
  {
   "cell_type": "code",
   "execution_count": 14,
   "id": "114a8049-aba5-4c88-9a81-5fc1f831e80a",
   "metadata": {},
   "outputs": [],
   "source": [
    "# Fill the null values with ?\n",
    "data['generic_name']=data['generic_name'].replace(np.nan,'Unknown')"
   ]
  },
  {
   "cell_type": "code",
   "execution_count": 15,
   "id": "1fa0bad7-2226-4310-b423-400b02010370",
   "metadata": {},
   "outputs": [],
   "source": [
    "# Fill the null values with undefined for 'drug_classes'\n",
    "data['drug_classes']=data['drug_classes'].replace(np.nan,'Unknown')"
   ]
  },
  {
   "cell_type": "code",
   "execution_count": 16,
   "id": "6e226084-8b6d-409b-af67-7a2e69ae8b80",
   "metadata": {},
   "outputs": [
    {
     "data": {
      "text/plain": [
       "array(['Rx', 'Rx/OTC', 'OTC', nan], dtype=object)"
      ]
     },
     "execution_count": 16,
     "metadata": {},
     "output_type": "execute_result"
    }
   ],
   "source": [
    "# For these two columns we already have some category values from dataset's description\n",
    "# So, let's check the categorical values\n",
    "# For Rx_OTC\n",
    "data[\"rx_otc\"].unique()"
   ]
  },
  {
   "cell_type": "code",
   "execution_count": 17,
   "id": "e111eae3-fb79-4811-8fd1-59b4f1079547",
   "metadata": {},
   "outputs": [
    {
     "data": {
      "text/plain": [
       "array(['D', 'C', 'X', 'B', 'N', nan, 'A'], dtype=object)"
      ]
     },
     "execution_count": 17,
     "metadata": {},
     "output_type": "execute_result"
    }
   ],
   "source": [
    "# For pregnancy categories\n",
    "data[\"pregnancy_category\"].unique()"
   ]
  },
  {
   "cell_type": "code",
   "execution_count": 18,
   "id": "8e16c2a5-15e1-4999-b8cf-0685620eea61",
   "metadata": {},
   "outputs": [
    {
     "name": "stdout",
     "output_type": "stream",
     "text": [
      "        drug_name medical_condition  \\\n",
      "0     doxycycline              Acne   \n",
      "1  spironolactone              Acne   \n",
      "2     minocycline              Acne   \n",
      "3        Accutane              Acne   \n",
      "4     clindamycin              Acne   \n",
      "\n",
      "                                        side_effects         generic_name  \\\n",
      "0  (hives, difficult breathing, swelling in your ...          doxycycline   \n",
      "1  hives ; difficulty breathing; swelling of your...       spironolactone   \n",
      "2  skin rash, fever, swollen glands, flu-like sym...          minocycline   \n",
      "3  problems with your vision or hearing; muscle o...  isotretinoin (oral)   \n",
      "4  hives ; difficult breathing; swelling of your ...  clindamycin topical   \n",
      "\n",
      "                                        drug_classes  activity rx_otc  \\\n",
      "0         Miscellaneous antimalarials, Tetracyclines      0.87     Rx   \n",
      "1  Aldosterone receptor antagonists, Potassium-sp...      0.82     Rx   \n",
      "2                                      Tetracyclines      0.48     Rx   \n",
      "3  Miscellaneous antineoplastics, Miscellaneous u...      0.41     Rx   \n",
      "4       Topical acne agents, Vaginal anti-infectives      0.39     Rx   \n",
      "\n",
      "  pregnancy_category csa alcohol  \\\n",
      "0                  D   N       1   \n",
      "1                  C   N       1   \n",
      "2                  D   N       0   \n",
      "3                  X   N       1   \n",
      "4                  B   N       0   \n",
      "\n",
      "                                       related_drugs  \\\n",
      "0  amoxicillin: https://www.drugs.com/amoxicillin...   \n",
      "1  amlodipine: https://www.drugs.com/amlodipine.h...   \n",
      "2  amoxicillin: https://www.drugs.com/amoxicillin...   \n",
      "3  doxycycline: https://www.drugs.com/doxycycline...   \n",
      "4  doxycycline: https://www.drugs.com/doxycycline...   \n",
      "\n",
      "                       medical_condition_description rating  no_of_reviews  \\\n",
      "0  Acne Other names: Acne Vulgaris; Blackheads; B...    6.8          760.0   \n",
      "1  Acne Other names: Acne Vulgaris; Blackheads; B...    7.2          449.0   \n",
      "2  Acne Other names: Acne Vulgaris; Blackheads; B...    5.7          482.0   \n",
      "3  Acne Other names: Acne Vulgaris; Blackheads; B...    7.9          623.0   \n",
      "4  Acne Other names: Acne Vulgaris; Blackheads; B...    7.4          146.0   \n",
      "\n",
      "                                           drug_link  \\\n",
      "0             https://www.drugs.com/doxycycline.html   \n",
      "1          https://www.drugs.com/spironolactone.html   \n",
      "2             https://www.drugs.com/minocycline.html   \n",
      "3                https://www.drugs.com/accutane.html   \n",
      "4  https://www.drugs.com/mtm/clindamycin-topical....   \n",
      "\n",
      "                       medical_condition_url  \n",
      "0  https://www.drugs.com/condition/acne.html  \n",
      "1  https://www.drugs.com/condition/acne.html  \n",
      "2  https://www.drugs.com/condition/acne.html  \n",
      "3  https://www.drugs.com/condition/acne.html  \n",
      "4  https://www.drugs.com/condition/acne.html  \n"
     ]
    }
   ],
   "source": [
    "# Fill the null value with Unknown as a basic value\n",
    "data['rx_otc']=data['rx_otc'].replace(np.nan, 'Unknown')\n",
    "# Fill the null value with Unknown as a basic value\n",
    "data['pregnancy_category']=data['pregnancy_category'].replace(np.nan, 'Unknown')\n",
    "data['no_of_reviews'] = pd.to_numeric(data['no_of_reviews'], errors='coerce')\n",
    "print(data.head())\n",
    "dfs=data.copy()"
   ]
  },
  {
   "cell_type": "code",
   "execution_count": 19,
   "id": "93c05d6b-4388-4505-ab60-0fff5804963d",
   "metadata": {},
   "outputs": [
    {
     "name": "stdout",
     "output_type": "stream",
     "text": [
      "Number of instances = 2931\n",
      "Number of attributes = 16\n",
      "Number of missing values:\n",
      "\tdrug_name: 0\n",
      "\tmedical_condition: 0\n",
      "\tside_effects: 0\n",
      "\tgeneric_name: 0\n",
      "\tdrug_classes: 0\n",
      "\tactivity: 0\n",
      "\trx_otc: 0\n",
      "\tpregnancy_category: 0\n",
      "\tcsa: 0\n",
      "\talcohol: 0\n",
      "\trelated_drugs: 0\n",
      "\tmedical_condition_description: 0\n",
      "\trating: 0\n",
      "\tno_of_reviews: 0\n",
      "\tdrug_link: 0\n",
      "\tmedical_condition_url: 0\n"
     ]
    }
   ],
   "source": [
    "# Let's check is there any missing values left print(\"There are {} missing values in this dataset\".format(data.isnull().sum().sum()))\n",
    "print('Number of instances = %d' % (data.shape[0]))\n",
    "print('Number of attributes = %d' % (data.shape[1]))\n",
    "print('Number of missing values:')\n",
    "for col in data.columns: print('\\t%s: %d' % (col,data[col].isna().sum()))"
   ]
  },
  {
   "cell_type": "code",
   "execution_count": 20,
   "id": "4eaa2112-f1c3-447d-b8c9-9102af8e0386",
   "metadata": {},
   "outputs": [
    {
     "name": "stdout",
     "output_type": "stream",
     "text": [
      "        drug_name medical_condition  \\\n",
      "0     doxycycline              Acne   \n",
      "1  spironolactone              Acne   \n",
      "2     minocycline              Acne   \n",
      "3        Accutane              Acne   \n",
      "4     clindamycin              Acne   \n",
      "\n",
      "                                        side_effects         generic_name  \\\n",
      "0  (hives, difficult breathing, swelling in your ...          doxycycline   \n",
      "1  hives ; difficulty breathing; swelling of your...       spironolactone   \n",
      "2  skin rash, fever, swollen glands, flu-like sym...          minocycline   \n",
      "3  problems with your vision or hearing; muscle o...  isotretinoin (oral)   \n",
      "4  hives ; difficult breathing; swelling of your ...  clindamycin topical   \n",
      "\n",
      "                                        drug_classes  activity rx_otc  \\\n",
      "0         Miscellaneous antimalarials, Tetracyclines      0.87     Rx   \n",
      "1  Aldosterone receptor antagonists, Potassium-sp...      0.82     Rx   \n",
      "2                                      Tetracyclines      0.48     Rx   \n",
      "3  Miscellaneous antineoplastics, Miscellaneous u...      0.41     Rx   \n",
      "4       Topical acne agents, Vaginal anti-infectives      0.39     Rx   \n",
      "\n",
      "  pregnancy_category csa alcohol  \\\n",
      "0                  D   N       1   \n",
      "1                  C   N       1   \n",
      "2                  D   N       0   \n",
      "3                  X   N       1   \n",
      "4                  B   N       0   \n",
      "\n",
      "                                       related_drugs  \\\n",
      "0  amoxicillin: https://www.drugs.com/amoxicillin...   \n",
      "1  amlodipine: https://www.drugs.com/amlodipine.h...   \n",
      "2  amoxicillin: https://www.drugs.com/amoxicillin...   \n",
      "3  doxycycline: https://www.drugs.com/doxycycline...   \n",
      "4  doxycycline: https://www.drugs.com/doxycycline...   \n",
      "\n",
      "                       medical_condition_description rating  no_of_reviews  \\\n",
      "0  Acne Other names: Acne Vulgaris; Blackheads; B...    6.8          760.0   \n",
      "1  Acne Other names: Acne Vulgaris; Blackheads; B...    7.2          449.0   \n",
      "2  Acne Other names: Acne Vulgaris; Blackheads; B...    5.7          482.0   \n",
      "3  Acne Other names: Acne Vulgaris; Blackheads; B...    7.9          623.0   \n",
      "4  Acne Other names: Acne Vulgaris; Blackheads; B...    7.4          146.0   \n",
      "\n",
      "                                           drug_link  \\\n",
      "0             https://www.drugs.com/doxycycline.html   \n",
      "1          https://www.drugs.com/spironolactone.html   \n",
      "2             https://www.drugs.com/minocycline.html   \n",
      "3                https://www.drugs.com/accutane.html   \n",
      "4  https://www.drugs.com/mtm/clindamycin-topical....   \n",
      "\n",
      "                       medical_condition_url  \n",
      "0  https://www.drugs.com/condition/acne.html  \n",
      "1  https://www.drugs.com/condition/acne.html  \n",
      "2  https://www.drugs.com/condition/acne.html  \n",
      "3  https://www.drugs.com/condition/acne.html  \n",
      "4  https://www.drugs.com/condition/acne.html  \n"
     ]
    }
   ],
   "source": [
    "data_version2=data.copy()\n",
    "print(data_version2.head())\n",
    "# Print head of dataset to our check"
   ]
  },
  {
   "cell_type": "code",
   "execution_count": 21,
   "id": "071027e5-d639-448f-9379-bba5dcc67d15",
   "metadata": {},
   "outputs": [
    {
     "name": "stdout",
     "output_type": "stream",
     "text": [
      "['D' 'C' 'X' 'B' 'N' 'Unknown' 'A']\n"
     ]
    }
   ],
   "source": [
    "# Load the saved CSV file into a new DataFrame\n",
    "data_ver3 = pd.read_csv('drugs_side_effects_drugs_com_version2.csv')\n",
    "\n",
    "# Check unique values in the \"pregnancy_category\" column\n",
    "print(data_ver3[\"pregnancy_category\"].unique())\n"
   ]
  },
  {
   "cell_type": "code",
   "execution_count": 22,
   "id": "60728ee4-16d7-4230-af88-06803dd9a58e",
   "metadata": {},
   "outputs": [
    {
     "data": {
      "text/plain": [
       "array(['N', '2', '4', 'U', 'M', '5', '3'], dtype=object)"
      ]
     },
     "execution_count": 22,
     "metadata": {},
     "output_type": "execute_result"
    }
   ],
   "source": [
    "data_ver3[\"csa\"].unique()"
   ]
  },
  {
   "cell_type": "code",
   "execution_count": 23,
   "id": "892f90b2-2221-4749-a6a5-9d9c352c7d42",
   "metadata": {},
   "outputs": [
    {
     "data": {
      "text/plain": [
       "array(['Rx', 'Rx/OTC', 'OTC', 'Unknown'], dtype=object)"
      ]
     },
     "execution_count": 23,
     "metadata": {},
     "output_type": "execute_result"
    }
   ],
   "source": [
    "data_ver3[\"rx_otc\"].unique()"
   ]
  },
  {
   "cell_type": "code",
   "execution_count": 24,
   "id": "9fedf2fc-2c3e-4e14-877d-27a5f7f55506",
   "metadata": {},
   "outputs": [
    {
     "data": {
      "text/plain": [
       "array(['doxycycline', 'spironolactone', 'minocycline', ...,\n",
       "       'fenfluramine', 'phendimetrazine tartrate', 'setmelanotide'],\n",
       "      dtype=object)"
      ]
     },
     "execution_count": 24,
     "metadata": {},
     "output_type": "execute_result"
    }
   ],
   "source": [
    "data_ver3[\"generic_name\"].unique()"
   ]
  },
  {
   "cell_type": "code",
   "execution_count": 25,
   "id": "51909c43-4491-404e-9b09-6ffbf4ca9564",
   "metadata": {},
   "outputs": [
    {
     "data": {
      "text/plain": [
       "array(['Acne', 'ADHD', 'AIDS/HIV', 'Allergies', \"Alzheimer's\", 'Angina',\n",
       "       'Anxiety', 'Asthma', 'Bipolar Disorder', 'Bronchitis', 'Cancer',\n",
       "       'Cholesterol', 'Colds & Flu', 'Constipation', 'COPD', 'Covid 19',\n",
       "       'Depression', 'Diabetes (Type 1)', 'Diabetes (Type 2)', 'Diarrhea',\n",
       "       'Eczema', 'Erectile Dysfunction', 'Gastrointestinal',\n",
       "       'GERD (Heartburn)', 'Gout', 'Hair Loss', 'Hayfever', 'Herpes',\n",
       "       'Hypertension', 'Hypothyroidism', 'IBD (Bowel)', 'Incontinence',\n",
       "       'Insomnia', 'Menopause', 'Migraine', 'Osteoarthritis',\n",
       "       'Osteoporosis', 'Pain', 'Pneumonia', 'Psoriasis',\n",
       "       'Rheumatoid Arthritis', 'Schizophrenia', 'Seizures', 'Stroke',\n",
       "       'Swine Flu', 'UTI', 'Weight Loss'], dtype=object)"
      ]
     },
     "execution_count": 25,
     "metadata": {},
     "output_type": "execute_result"
    }
   ],
   "source": [
    "data_ver3[\"medical_condition\"].unique()"
   ]
  },
  {
   "cell_type": "code",
   "execution_count": 26,
   "id": "6e2f51d0-ccdc-4203-a2fe-b8fd72fd1a30",
   "metadata": {},
   "outputs": [],
   "source": [
    "from sklearn.preprocessing import LabelEncoder\n",
    "label_encoder = LabelEncoder()\n",
    "data_ver3[\"csa\"]=label_encoder.fit_transform(data_ver3[\"csa\"])\n",
    "data_ver3[\"rx_otc\"]=label_encoder.fit_transform(data_ver3[\"rx_otc\"])\n",
    "data_ver3[\"generic_name\"] = label_encoder.fit_transform(data_ver3[\"generic_name\"])\n",
    "data_ver3[\"medical_condition\"] = label_encoder.fit_transform(data_ver3[\"medical_condition\"])\n",
    "data_ver3[\"pregnancy_category\"] = label_encoder.fit_transform(data_ver3[\"pregnancy_category\"])\n",
    "data_ver3[\"side_effects\"] = label_encoder.fit_transform(data_ver3[\"side_effects\"])"
   ]
  },
  {
   "cell_type": "code",
   "execution_count": 27,
   "id": "f75a268e-a30c-4988-8844-4a867d0d81e9",
   "metadata": {},
   "outputs": [
    {
     "data": {
      "text/plain": [
       "array([ 642, 1270, 1034, ...,  729, 1157, 1259])"
      ]
     },
     "execution_count": 27,
     "metadata": {},
     "output_type": "execute_result"
    }
   ],
   "source": [
    "data_ver3[\"generic_name\"].unique()"
   ]
  },
  {
   "cell_type": "code",
   "execution_count": 28,
   "id": "a8e68bf0-c3db-48dd-84e1-b28eb0aed83d",
   "metadata": {},
   "outputs": [
    {
     "data": {
      "text/plain": [
       "array([1, 2, 0, 3])"
      ]
     },
     "execution_count": 28,
     "metadata": {},
     "output_type": "execute_result"
    }
   ],
   "source": [
    "data_ver3[\"rx_otc\"].unique()"
   ]
  },
  {
   "cell_type": "code",
   "execution_count": 29,
   "id": "393028de-ca68-4ddf-beec-0477756cf246",
   "metadata": {},
   "outputs": [
    {
     "data": {
      "text/plain": [
       "array([5, 0, 2, 6, 4, 3, 1])"
      ]
     },
     "execution_count": 29,
     "metadata": {},
     "output_type": "execute_result"
    }
   ],
   "source": [
    "data_ver3[\"csa\"].unique()"
   ]
  },
  {
   "cell_type": "code",
   "execution_count": 30,
   "id": "5f78fd26-b2c5-4f04-b499-ec5acf22fa3f",
   "metadata": {},
   "outputs": [
    {
     "data": {
      "text/plain": [
       "array([  15, 1972, 2697, ..., 1647,  416, 1706])"
      ]
     },
     "execution_count": 30,
     "metadata": {},
     "output_type": "execute_result"
    }
   ],
   "source": [
    "data_ver3[\"side_effects\"].unique()"
   ]
  },
  {
   "cell_type": "code",
   "execution_count": 31,
   "id": "a11d9cbb-7148-43b0-8c9d-1f011fd666c5",
   "metadata": {},
   "outputs": [
    {
     "data": {
      "text/plain": [
       "array([ 2,  0,  1,  3,  4,  5,  6,  7,  8,  9, 11, 12, 13, 14, 10, 15, 16,\n",
       "       17, 18, 19, 20, 21, 23, 22, 24, 25, 26, 27, 28, 29, 30, 31, 32, 33,\n",
       "       34, 35, 36, 37, 38, 39, 40, 41, 42, 43, 44, 45, 46])"
      ]
     },
     "execution_count": 31,
     "metadata": {},
     "output_type": "execute_result"
    }
   ],
   "source": [
    "data_ver3[\"medical_condition\"].unique()"
   ]
  },
  {
   "cell_type": "code",
   "execution_count": 32,
   "id": "9116c003-c811-443e-bad7-7e046ca815fa",
   "metadata": {},
   "outputs": [
    {
     "data": {
      "text/plain": [
       "array([3, 2, 6, 1, 4, 5, 0])"
      ]
     },
     "execution_count": 32,
     "metadata": {},
     "output_type": "execute_result"
    }
   ],
   "source": [
    "data_ver3[\"pregnancy_category\"].unique()"
   ]
  },
  {
   "cell_type": "code",
   "execution_count": 33,
   "id": "32e2a1f9-5f98-4c91-9061-9d31a8102fcc",
   "metadata": {},
   "outputs": [
    {
     "data": {
      "text/html": [
       "<div>\n",
       "<style scoped>\n",
       "    .dataframe tbody tr th:only-of-type {\n",
       "        vertical-align: middle;\n",
       "    }\n",
       "\n",
       "    .dataframe tbody tr th {\n",
       "        vertical-align: top;\n",
       "    }\n",
       "\n",
       "    .dataframe thead th {\n",
       "        text-align: right;\n",
       "    }\n",
       "</style>\n",
       "<table border=\"1\" class=\"dataframe\">\n",
       "  <thead>\n",
       "    <tr style=\"text-align: right;\">\n",
       "      <th></th>\n",
       "      <th>generic_name</th>\n",
       "      <th>medical_condition</th>\n",
       "      <th>no_of_reviews</th>\n",
       "      <th>side_effects</th>\n",
       "      <th>rating</th>\n",
       "      <th>csa</th>\n",
       "      <th>pregnancy_category</th>\n",
       "      <th>rx_otc</th>\n",
       "      <th>alcohol</th>\n",
       "    </tr>\n",
       "  </thead>\n",
       "  <tbody>\n",
       "    <tr>\n",
       "      <th>0</th>\n",
       "      <td>642</td>\n",
       "      <td>2</td>\n",
       "      <td>760.0</td>\n",
       "      <td>15</td>\n",
       "      <td>6.8</td>\n",
       "      <td>5</td>\n",
       "      <td>3</td>\n",
       "      <td>1</td>\n",
       "      <td>1</td>\n",
       "    </tr>\n",
       "    <tr>\n",
       "      <th>1</th>\n",
       "      <td>1270</td>\n",
       "      <td>2</td>\n",
       "      <td>449.0</td>\n",
       "      <td>1972</td>\n",
       "      <td>7.2</td>\n",
       "      <td>5</td>\n",
       "      <td>2</td>\n",
       "      <td>1</td>\n",
       "      <td>1</td>\n",
       "    </tr>\n",
       "    <tr>\n",
       "      <th>2</th>\n",
       "      <td>1034</td>\n",
       "      <td>2</td>\n",
       "      <td>482.0</td>\n",
       "      <td>2697</td>\n",
       "      <td>5.7</td>\n",
       "      <td>5</td>\n",
       "      <td>3</td>\n",
       "      <td>1</td>\n",
       "      <td>0</td>\n",
       "    </tr>\n",
       "    <tr>\n",
       "      <th>3</th>\n",
       "      <td>903</td>\n",
       "      <td>2</td>\n",
       "      <td>623.0</td>\n",
       "      <td>2570</td>\n",
       "      <td>7.9</td>\n",
       "      <td>5</td>\n",
       "      <td>6</td>\n",
       "      <td>1</td>\n",
       "      <td>1</td>\n",
       "    </tr>\n",
       "    <tr>\n",
       "      <th>4</th>\n",
       "      <td>505</td>\n",
       "      <td>2</td>\n",
       "      <td>146.0</td>\n",
       "      <td>1260</td>\n",
       "      <td>7.4</td>\n",
       "      <td>5</td>\n",
       "      <td>1</td>\n",
       "      <td>1</td>\n",
       "      <td>0</td>\n",
       "    </tr>\n",
       "    <tr>\n",
       "      <th>5</th>\n",
       "      <td>1270</td>\n",
       "      <td>2</td>\n",
       "      <td>8.0</td>\n",
       "      <td>1971</td>\n",
       "      <td>7.6</td>\n",
       "      <td>5</td>\n",
       "      <td>2</td>\n",
       "      <td>1</td>\n",
       "      <td>1</td>\n",
       "    </tr>\n",
       "    <tr>\n",
       "      <th>6</th>\n",
       "      <td>1335</td>\n",
       "      <td>2</td>\n",
       "      <td>439.0</td>\n",
       "      <td>1895</td>\n",
       "      <td>7.7</td>\n",
       "      <td>5</td>\n",
       "      <td>2</td>\n",
       "      <td>1</td>\n",
       "      <td>0</td>\n",
       "    </tr>\n",
       "    <tr>\n",
       "      <th>7</th>\n",
       "      <td>903</td>\n",
       "      <td>2</td>\n",
       "      <td>999.0</td>\n",
       "      <td>2577</td>\n",
       "      <td>8.0</td>\n",
       "      <td>5</td>\n",
       "      <td>6</td>\n",
       "      <td>1</td>\n",
       "      <td>1</td>\n",
       "    </tr>\n",
       "    <tr>\n",
       "      <th>8</th>\n",
       "      <td>1276</td>\n",
       "      <td>2</td>\n",
       "      <td>96.0</td>\n",
       "      <td>2702</td>\n",
       "      <td>8.5</td>\n",
       "      <td>5</td>\n",
       "      <td>3</td>\n",
       "      <td>1</td>\n",
       "      <td>1</td>\n",
       "    </tr>\n",
       "    <tr>\n",
       "      <th>9</th>\n",
       "      <td>162</td>\n",
       "      <td>2</td>\n",
       "      <td>86.0</td>\n",
       "      <td>2405</td>\n",
       "      <td>7.9</td>\n",
       "      <td>5</td>\n",
       "      <td>2</td>\n",
       "      <td>1</td>\n",
       "      <td>0</td>\n",
       "    </tr>\n",
       "  </tbody>\n",
       "</table>\n",
       "</div>"
      ],
      "text/plain": [
       "   generic_name  medical_condition  no_of_reviews  side_effects  rating  csa  \\\n",
       "0           642                  2          760.0            15     6.8    5   \n",
       "1          1270                  2          449.0          1972     7.2    5   \n",
       "2          1034                  2          482.0          2697     5.7    5   \n",
       "3           903                  2          623.0          2570     7.9    5   \n",
       "4           505                  2          146.0          1260     7.4    5   \n",
       "5          1270                  2            8.0          1971     7.6    5   \n",
       "6          1335                  2          439.0          1895     7.7    5   \n",
       "7           903                  2          999.0          2577     8.0    5   \n",
       "8          1276                  2           96.0          2702     8.5    5   \n",
       "9           162                  2           86.0          2405     7.9    5   \n",
       "\n",
       "   pregnancy_category  rx_otc  alcohol  \n",
       "0                   3       1        1  \n",
       "1                   2       1        1  \n",
       "2                   3       1        0  \n",
       "3                   6       1        1  \n",
       "4                   1       1        0  \n",
       "5                   2       1        1  \n",
       "6                   2       1        0  \n",
       "7                   6       1        1  \n",
       "8                   3       1        1  \n",
       "9                   2       1        0  "
      ]
     },
     "execution_count": 33,
     "metadata": {},
     "output_type": "execute_result"
    }
   ],
   "source": [
    "df=pd.DataFrame(data_ver3,columns=('generic_name', 'medical_condition',\n",
    "'no_of_reviews', 'side_effects', 'rating', 'csa', 'pregnancy_category', 'rx_otc','alcohol'))\n",
    "df.head(10)"
   ]
  },
  {
   "cell_type": "code",
   "execution_count": 34,
   "id": "cb267491-5565-492d-8d27-2d9767eb5236",
   "metadata": {},
   "outputs": [
    {
     "name": "stdout",
     "output_type": "stream",
     "text": [
      "[[-0.11111578 -1.43400434  5.10119829 ...  0.28892455 -0.17025661\n",
      "   1.06232778]\n",
      " [ 1.50040103 -1.43400434  2.89586941 ... -0.43301735 -0.17025661\n",
      "   1.06232778]\n",
      " [ 0.89479917 -1.43400434  3.12987537 ...  0.28892455 -0.17025661\n",
      "  -0.94132905]\n",
      " ...\n",
      " [ 1.21043065  1.82918864 -0.28802985 ... -0.43301735 -0.17025661\n",
      "   1.06232778]\n",
      " [ 1.47217383  1.82918864 -0.28802985 ...  1.73280834 -0.17025661\n",
      "  -0.94132905]\n",
      " [ 1.47217383  1.82918864 -0.28802985 ...  1.73280834 -0.17025661\n",
      "  -0.94132905]]\n"
     ]
    }
   ],
   "source": [
    "from sklearn.preprocessing import StandardScaler\n",
    "scaler=StandardScaler()\n",
    "scaler.fit(df)\n",
    "scaled_data=scaler.transform(df)\n",
    "print(scaled_data)"
   ]
  },
  {
   "cell_type": "code",
   "execution_count": 35,
   "id": "2da63515-44fc-42bd-8141-51179ffd31e7",
   "metadata": {},
   "outputs": [
    {
     "name": "stdout",
     "output_type": "stream",
     "text": [
      "      generic_name  medical_condition  no_of_reviews  side_effects    rating  \\\n",
      "0        -0.111116          -1.434004       5.101198     -1.678954  0.819930   \n",
      "1         1.500401          -1.434004       2.895869      0.778579  0.925271   \n",
      "2         0.894799          -1.434004       3.129875      1.689009  0.530244   \n",
      "3         0.558639          -1.434004       4.129719      1.529527  1.109617   \n",
      "4        -0.462673          -1.434004       0.747269     -0.115526  0.977941   \n",
      "...            ...                ...            ...           ...       ...   \n",
      "2926     -0.832193           1.829189      -0.167481      0.757231  1.004277   \n",
      "2927      0.112136           1.829189      -0.288030      0.370455 -0.970861   \n",
      "2928      1.210431           1.829189      -0.288030     -1.029724 -0.970861   \n",
      "2929      1.472174           1.829189      -0.288030     -1.175392 -0.970861   \n",
      "2930      1.472174           1.829189      -0.288030      0.444545 -0.970861   \n",
      "\n",
      "           csa  pregnancy_category    rx_otc   alcohol  \n",
      "0     0.274178            0.288925 -0.170257  1.062328  \n",
      "1     0.274178           -0.433017 -0.170257  1.062328  \n",
      "2     0.274178            0.288925 -0.170257 -0.941329  \n",
      "3     0.274178            2.454750 -0.170257  1.062328  \n",
      "4     0.274178           -1.154959 -0.170257 -0.941329  \n",
      "...        ...                 ...       ...       ...  \n",
      "2926 -3.424857            2.454750 -0.170257  1.062328  \n",
      "2927 -2.500098           -0.433017 -0.170257  1.062328  \n",
      "2928 -3.424857           -0.433017 -0.170257  1.062328  \n",
      "2929  0.274178            1.732808 -0.170257 -0.941329  \n",
      "2930  0.274178            1.732808 -0.170257 -0.941329  \n",
      "\n",
      "[2931 rows x 9 columns]\n"
     ]
    }
   ],
   "source": [
    "df_std = pd.DataFrame(scaler.fit_transform(df), columns=df.columns)\n",
    "print(df_std)"
   ]
  },
  {
   "cell_type": "code",
   "execution_count": 36,
   "id": "237b200e-ebd4-40c6-b2eb-fa500d167b07",
   "metadata": {},
   "outputs": [
    {
     "data": {
      "image/png": "[encoded data removed]",
      "text/plain": [
       "<Figure size 1000x500 with 2 Axes>"
      ]
     },
     "metadata": {},
     "output_type": "display_data"
    }
   ],
   "source": [
    "import seaborn as sns\n",
    "import matplotlib.pyplot as plt\n",
    "plt.figure(figsize=(10, 5))\n",
    "sns.heatmap(df.corr(), annot=True, cmap='Set3', fmt=\".2f\")\n",
    "plt.title('Correlation Heatmap')\n",
    "plt.show()"
   ]
  },
  {
   "cell_type": "code",
   "execution_count": 37,
   "id": "4e50ad47-e0f4-468a-b79d-417629a13f78",
   "metadata": {},
   "outputs": [
    {
     "name": "stdout",
     "output_type": "stream",
     "text": [
      "\n",
      "Medical condition occurrence and frequency (sorted from highest to lowest):\n",
      "medical_condition\n",
      "Pain                    264\n",
      "Colds & Flu             245\n",
      "Acne                    238\n",
      "Hypertension            177\n",
      "Osteoarthritis          129\n",
      "Hayfever                124\n",
      "Eczema                  122\n",
      "AIDS/HIV                109\n",
      "Diabetes (Type 2)       104\n",
      "Psoriasis                93\n",
      "GERD (Heartburn)         77\n",
      "Pneumonia                72\n",
      "Bronchitis               71\n",
      "Angina                   71\n",
      "Migraine                 61\n",
      "Insomnia                 60\n",
      "Constipation             60\n",
      "Diabetes (Type 1)        57\n",
      "Osteoporosis             56\n",
      "ADHD                     55\n",
      "Depression               51\n",
      "Seizures                 50\n",
      "Bipolar Disorder         47\n",
      "UTI                      46\n",
      "Asthma                   45\n",
      "Cholesterol              45\n",
      "Anxiety                  45\n",
      "Diarrhea                 38\n",
      "Covid 19                 34\n",
      "Rheumatoid Arthritis     33\n",
      "Alzheimer's              27\n",
      "COPD                     23\n",
      "Weight Loss              23\n",
      "IBD (Bowel)              22\n",
      "Cancer                   20\n",
      "Schizophrenia            20\n",
      "Incontinence             19\n",
      "Hypothyroidism           17\n",
      "Allergies                14\n",
      "Erectile Dysfunction     13\n",
      "Hair Loss                11\n",
      "Herpes                   10\n",
      "Gout                      9\n",
      "Gastrointestinal          7\n",
      "Menopause                 7\n",
      "Swine Flu                 5\n",
      "Stroke                    5\n",
      "Name: count, dtype: int64\n"
     ]
    }
   ],
   "source": [
    "# Read the new version dataset\n",
    "data_ver4 = pd.read_csv('drugs_side_effects_drugs_com_version2.csv')\n",
    "# Importing necessary libraries\n",
    "from mlxtend.frequent_patterns import apriori, association_rules\n",
    "import matplotlib.pyplot as plt\n",
    "import pandas as pd\n",
    "# Check for occurrence and frequency of medical conditions, sorted from highest to lowest\n",
    "medical_condition_counts = data_ver4['medical_condition'].value_counts().sort_values(ascending=False)\n",
    "print(\"\\nMedical condition occurrence and frequency (sorted from highest to lowest):\")\n",
    "print(medical_condition_counts)"
   ]
  },
  {
   "cell_type": "code",
   "execution_count": 38,
   "id": "3596410f-b855-41c6-81ad-ba47869cd035",
   "metadata": {},
   "outputs": [],
   "source": [
    "# Save the results to CSV files if needed\n",
    "medical_condition_counts.to_csv('medical_condition_counts.csv')"
   ]
  },
  {
   "cell_type": "code",
   "execution_count": 39,
   "id": "87032378-e73c-494f-894f-237384854d2b",
   "metadata": {},
   "outputs": [
    {
     "name": "stdout",
     "output_type": "stream",
     "text": [
      "\n",
      "List of side effects with their frequencies (most to least common):\n",
      "side_effects\n",
      "hives                                                                                                                                                                                                                                                                                                                                                                                                                                                                                                                                                                                                                                                                                                                                                                                                                                                                                                                                                                                                                                                                                                                                                                                                                                                                                                                                                                                                                                                                                                                                                                                                                                                                                                                                                                                                                                                                      1788\n",
      "difficult breathing                                                                                                                                                                                                                                                                                                                                                                                                                                                                                                                                                                                                                                                                                                                                                                                                                                                                                                                                                                                                                                                                                                                                                                                                                                                                                                                                                                                                                                                                                                                                                                                                                                                                                                                                                                                                                                                        1130\n",
      "difficulty breathing                                                                                                                                                                                                                                                                                                                                                                                                                                                                                                                                                                                                                                                                                                                                                                                                                                                                                                                                                                                                                                                                                                                                                                                                                                                                                                                                                                                                                                                                                                                                                                                                                                                                                                                                                                                                                                                        450\n",
      "itching                                                                                                                                                                                                                                                                                                                                                                                                                                                                                                                                                                                                                                                                                                                                                                                                                                                                                                                                                                                                                                                                                                                                                                                                                                                                                                                                                                                                                                                                                                                                                                                                                                                                                                                                                                                                                                                                     275\n",
      "a light-headed feeling, like you might pass out                                                                                                                                                                                                                                                                                                                                                                                                                                                                                                                                                                                                                                                                                                                                                                                                                                                                                                                                                                                                                                                                                                                                                                                                                                                                                                                                                                                                                                                                                                                                                                                                                                                                                                                                                                                                                             272\n",
      "                                                                                                                                                                                                                                                                                                                                                                                                                                                                                                                                                                                                                                                                                                                                                                                                                                                                                                                                                                                                                                                                                                                                                                                                                                                                                                                                                                                                                                                                                                                                                                                                                                                                                                                                                                                                                                                                           ... \n",
      "or dangerously high blood pressure (severe headache , blurred vision, buzzing in your ears, anxiety , confusion, chest pain, shortness of breath, uneven heartbeats, seizure). Common side effects of benzphetamine may include: feeling restless or hyperactive                                                                                                                                                                                                                                                                                                                                                                                                                                                                                                                                                                                                                                                                                                                                                                                                                                                                                                                                                                                                                                                                                                                                                                                                                                                                                                                                                                                                                                                                                                                                                                                                              1\n",
      "confusion or irritability, unusual thoughts or behavior                                                                                                                                                                                                                                                                                                                                                                                                                                                                                                                                                                                                                                                                                                                                                                                                                                                                                                                                                                                                                                                                                                                                                                                                                                                                                                                                                                                                                                                                                                                                                                                                                                                                                                                                                                                                                       1\n",
      "swelling of your face, lips, tongue, or throat. Benzphetamine may cause serious side effects. Stop using benzphetamine and call your doctor at once if you have: shortness of breath (even with mild exertion), swelling, rapid weight gain                                                                                                                                                                                                                                                                                                                                                                                                                                                                                                                                                                                                                                                                                                                                                                                                                                                                                                                                                                                                                                                                                                                                                                                                                                                                                                                                                                                                                                                                                                                                                                                                                                   1\n",
      "Along with its needed effects, a medicine may cause some unwanted effects. Although not all of these side effects may occur, if they do occur they may need medical attention. Check with your doctor immediately if any of the following side effects occur: Rare Seeing, hearing, or feeling things that are not there severe mental changes Incidence not known Chest pain decreased ability to exercise dizziness fainting fast, irregular, pounding, or racing heartbeat or pulse headache numbness or tingling in the arms or legs swelling of the feet or lower legs trembling or shaking of the legs, arms, hands, or feet trouble breathing trouble with thinking, speaking, or walking weakness Some side effects may occur that usually do not need medical attention. These side effects may go away during treatment as your body adjusts to the medicine. Also, your health care professional may be able to tell you about ways to prevent or reduce some of these side effects. Check with your health care professional if any of the following side effects continue or are bothersome or if you have any questions about them: Incidence not known Decreased interest in sexual intercourse difficulty having a bowel movement (stool) dry mouth false or unusual sense of well-being hives or welts, itching, or skin rash inability to have or keep an erection increased in sexual ability, desire, drive, or performance increased interest in sexual intercourse loss in sexual ability, desire, drive, or performance redness of the skin unpleasant taste Other side effects not listed may also occur in some patients. If you notice any other effects, check with your healthcare professional. Call your doctor for medical advice about side effects. You may report side effects to the FDA at 1-800-FDA-1088. Atti-Plex P side effects       1\n",
      "severe headaches, ringing in your ears, dizziness, nausea, vision problems, pain behind your eyes                                                                                                                                                                                                                                                                                                                                                                                                                                                                                                                                                                                                                                                                                                                                                                                                                                                                                                                                                                                                                                                                                                                                                                                                                                                                                                                                                                                                                                                                                                                                                                                                                                                                                                                                                                             1\n",
      "Name: count, Length: 8438, dtype: int64\n"
     ]
    }
   ],
   "source": [
    "import re\n",
    "\n",
    "# Function to get side effects from text, separated by semicolons\n",
    "def extract_side_effects(text):\n",
    "    # Split the text by ';' and remove extra spaces\n",
    "    return [effect.strip() for effect in text.split(';')]\n",
    "\n",
    "# Check if the 'side_effects' column is in the dataset\n",
    "if 'side_effects' in data_ver4.columns:\n",
    "    # Get side effects, remove empty entries, and split them\n",
    "    side_effects = data_ver4['side_effects'].dropna().apply(extract_side_effects).explode()\n",
    "\n",
    "    # Count how often each side effect appears\n",
    "    side_effect_counts = side_effects.value_counts()\n",
    "\n",
    "    # Print the results\n",
    "    print(\"\\nList of side effects with their frequencies (most to least common):\")\n",
    "    print(side_effect_counts)\n",
    "else:\n",
    "    print(\"The 'side_effects' column is not in the dataset.\")\n"
   ]
  },
  {
   "cell_type": "code",
   "execution_count": 40,
   "id": "7c13e5b5-cc79-4581-9927-6f9b8110a4cb",
   "metadata": {},
   "outputs": [],
   "source": [
    "# Save the side effect counts to a CSV file\n",
    "side_effect_counts.to_csv('side_effect_counts.csv')"
   ]
  },
  {
   "cell_type": "code",
   "execution_count": 41,
   "id": "3a613f85-fe96-4104-9ac1-13956b45773c",
   "metadata": {},
   "outputs": [
    {
     "name": "stdout",
     "output_type": "stream",
     "text": [
      "\n",
      "Drug Classes occurrence and frequency (sorted from highest to lowest):\n",
      "drug_classes\n",
      "Upper respiratory combinations    245\n",
      "Topical acne agents               125\n",
      "Topical steroids                   94\n",
      "Antihistamines                     82\n",
      "Unknown                            82\n",
      "                                 ... \n",
      "Antipseudomonal penicillins         1\n",
      "CD52 monoclonal antibodies          1\n",
      "Progestins                          1\n",
      "Interferons                         1\n",
      "Thioxanthenes                       1\n",
      "Name: count, Length: 244, dtype: int64\n"
     ]
    }
   ],
   "source": [
    "# Function to extract drug classes from text, split by commas\n",
    "def extract_drug_classes(text):\n",
    "    # Split the text on commas then strip whitespace\n",
    "    return [effect.strip() for effect in re.split(r'[,]', text)]\n",
    "# Extract and count occurrences of drug classes\n",
    "drug_classes = data_ver4['drug_classes'].dropna().apply(extract_drug_classes).explode()\n",
    "drug_classes_counts = drug_classes.value_counts().sort_values(ascending=False)\n",
    "print(\"\\nDrug Classes occurrence and frequency (sorted from highest to lowest):\")\n",
    "print(drug_classes_counts)\n"
   ]
  },
  {
   "cell_type": "code",
   "execution_count": 42,
   "id": "8edebed7-4446-4260-a62f-4f8df5cd7395",
   "metadata": {},
   "outputs": [],
   "source": [
    "# Save the drug classes counts to a CSV file\n",
    "drug_classes_counts.to_csv('drug_classes_counts.csv')"
   ]
  },
  {
   "cell_type": "code",
   "execution_count": 43,
   "id": "5251a2ed-6475-44ca-ae7b-27e2aea9359a",
   "metadata": {},
   "outputs": [],
   "source": [
    "# Define functions to check for specific side effects and create new boolean columns\n",
    "def has_hives(text):\n",
    "    return 'hives' in text.lower()\n",
    "data_ver4['Hives'] = data_ver4['side_effects'].apply(has_hives)\n",
    "def has_difficult_breathing(text):\n",
    "    return 'difficult breathing' in text.lower() or 'difficulty breathing' in text.lower()\n",
    "data_ver4['Difficult Breathing'] = data_ver4['side_effects'].apply(has_difficult_breathing)\n",
    "def has_itching(text):\n",
    "    return 'itching' in text.lower()\n",
    "data_ver4['Itching'] = data_ver4['side_effects'].apply(has_itching)"
   ]
  },
  {
   "cell_type": "code",
   "execution_count": 44,
   "id": "0b011146-d8a2-40c5-bc96-a05e9e22c391",
   "metadata": {},
   "outputs": [],
   "source": [
    "# Define functions to check for specific drug classes and create new boolean columns\n",
    "def is_usc(text):\n",
    "    return 'Upper respiratory combinations' in text\n",
    "data_ver4['Upper respiratory combinations'] = data_ver4['drug_classes'].apply(is_usc)\n",
    "def is_steriods(text):\n",
    "    return 'Topical steroids' in text\n",
    "data_ver4['Topical steroids'] = data_ver4['drug_classes'].apply(is_steriods)\n",
    "def is_acne(text):\n",
    "    return 'Topical acne agents' in text\n",
    "data_ver4['Topical acne agents'] = data_ver4['drug_classes'].apply(is_acne)"
   ]
  },
  {
   "cell_type": "code",
   "execution_count": 45,
   "id": "62bc3a9b-fb07-441d-96a8-53b9f43d4256",
   "metadata": {},
   "outputs": [],
   "source": [
    "# Define functions to check for specific medical conditions and create new boolean columns\n",
    "def has_pain(text):\n",
    "    return 'Pain' in text\n",
    "data_ver4['Pain'] = data_ver4['medical_condition'].apply(has_pain)\n",
    "def has_colds_and_flu(text):\n",
    "    return 'Colds & Flu' in text\n",
    "data_ver4['Colds & Flu'] = data_ver4['medical_condition'].apply(has_colds_and_flu)\n",
    "def has_acne(text):\n",
    "    return 'Acne' in text\n",
    "data_ver4['Acne'] = data_ver4['medical_condition'].apply(has_acne)"
   ]
  },
  {
   "cell_type": "code",
   "execution_count": 46,
   "id": "ab9d7a08-e138-4fc2-b496-7dad01920082",
   "metadata": {},
   "outputs": [
    {
     "data": {
      "image/png": "[encoded data removed]",
      "text/plain": [
       "<Figure size 640x480 with 1 Axes>"
      ]
     },
     "metadata": {},
     "output_type": "display_data"
    }
   ],
   "source": [
    "# Plot the count of occurrences for each side effect\n",
    "import seaborn as sns\n",
    "# Plot count of Hives\n",
    "data_ver4['Hives'].value_counts().plot(kind='bar', color=[(0.5, 0.2, 0.8),(0.8, 0.3, 0.5)])\n",
    "plt.title('Count of Hives')\n",
    "plt.xlabel('Hives')\n",
    "plt.ylabel('Count')\n",
    "plt.xticks([0, 1], ['False', 'True'], rotation=0)\n",
    "plt.show()"
   ]
  },
  {
   "cell_type": "code",
   "execution_count": 47,
   "id": "eabd4948-5cb1-45e2-a2fb-9bcb5282c781",
   "metadata": {},
   "outputs": [
    {
     "data": {
      "image/png": "[encoded data removed]",
      "text/plain": [
       "<Figure size 640x480 with 1 Axes>"
      ]
     },
     "metadata": {},
     "output_type": "display_data"
    }
   ],
   "source": [
    "# Plot count of Difficult Breathing\n",
    "data_ver4['Difficult Breathing'].value_counts().plot(kind='bar', color=[(0.5, 0.2, 0.8),(0.8, 0.3, 0.5)])\n",
    "plt.title('Count of Difficult Breathing')\n",
    "plt.xlabel('Difficult Breathing')\n",
    "plt.ylabel('Count')\n",
    "plt.xticks([0, 1], ['False', 'True'], rotation=0)\n",
    "plt.show()"
   ]
  },
  {
   "cell_type": "code",
   "execution_count": 48,
   "id": "3d7e2903-7e2b-4c8b-9f0d-c308f43d4c26",
   "metadata": {},
   "outputs": [
    {
     "data": {
      "image/png": "[encoded data removed]",
      "text/plain": [
       "<Figure size 640x480 with 1 Axes>"
      ]
     },
     "metadata": {},
     "output_type": "display_data"
    }
   ],
   "source": [
    "# Plot count of Itching\n",
    "data_ver4['Itching'].value_counts().plot(kind='bar',color=[(0.5, 0.2, 0.8),(0.8, 0.3, 0.5)])\n",
    "plt.title('Count of Itching')\n",
    "plt.xlabel('Itching')\n",
    "plt.ylabel('Count')\n",
    "plt.xticks([0, 1], ['False', 'True'], rotation=0)\n",
    "plt.show()"
   ]
  },
  {
   "cell_type": "code",
   "execution_count": 49,
   "id": "37ef749a-3033-4961-b6f1-f3982b0facf0",
   "metadata": {},
   "outputs": [
    {
     "data": {
      "image/png": "[encoded data removed]",
      "text/plain": [
       "<Figure size 640x480 with 1 Axes>"
      ]
     },
     "metadata": {},
     "output_type": "display_data"
    }
   ],
   "source": [
    "# Plot the count of occurrences for each drug class\n",
    "# Plot count of Upper respiratory combinations\n",
    "data_ver4['Upper respiratory combinations'].value_counts().plot(kind='bar', color=[(1, 0.6, 0.2),(0.4, 0.6, 0.8)])\n",
    "plt.title('Count of Upper respiratory combinations')\n",
    "plt.xlabel('Upper respiratory combinations')\n",
    "plt.ylabel('Count')\n",
    "plt.xticks([0, 1], ['False', 'True'], rotation=0)\n",
    "plt.show()"
   ]
  },
  {
   "cell_type": "code",
   "execution_count": 50,
   "id": "a6151b60-00f0-4c44-94de-c254cf166e71",
   "metadata": {},
   "outputs": [
    {
     "data": {
      "image/png": "[encoded data removed]",
      "text/plain": [
       "<Figure size 640x480 with 1 Axes>"
      ]
     },
     "metadata": {},
     "output_type": "display_data"
    }
   ],
   "source": [
    "# Plot count of Topical steroids\n",
    "data_ver4['Topical steroids'].value_counts().plot(kind='bar', color=[(1, 0.6, 0.2),(0.4, 0.6, 0.8)])\n",
    "plt.title('Count of Topical steroids')\n",
    "plt.xlabel('Topical steroids')\n",
    "plt.ylabel('Count')\n",
    "plt.xticks([0, 1], ['False', 'True'], rotation=0)\n",
    "plt.show()"
   ]
  },
  {
   "cell_type": "code",
   "execution_count": null,
   "id": "201e5ce2-54e0-413c-8ccb-f16db92ec7fb",
   "metadata": {},
   "outputs": [],
   "source": []
  }
 ],
 "metadata": {
  "kernelspec": {
   "display_name": "Python 3 (ipykernel)",
   "language": "python",
   "name": "python3"
  },
  "language_info": {
   "codemirror_mode": {
    "name": "ipython",
    "version": 3
   },
   "file_extension": ".py",
   "mimetype": "text/x-python",
   "name": "python",
   "nbconvert_exporter": "python",
   "pygments_lexer": "ipython3",
   "version": "3.12.5"
  }
 },
 "nbformat": 4,
 "nbformat_minor": 5
}
